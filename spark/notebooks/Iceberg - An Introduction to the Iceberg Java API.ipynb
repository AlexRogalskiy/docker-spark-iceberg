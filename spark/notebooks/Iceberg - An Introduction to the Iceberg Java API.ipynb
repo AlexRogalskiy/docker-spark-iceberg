{
 "cells": [
  {
   "cell_type": "markdown",
   "id": "16f6bb49",
   "metadata": {},
   "source": [
    "![iceberg-logo](https://www.apache.org/logos/res/iceberg/iceberg.png)"
   ]
  },
  {
   "cell_type": "markdown",
   "id": "c82657e9",
   "metadata": {},
   "source": [
    "### An Introduction to the Iceberg Java API"
   ]
  },
  {
   "cell_type": "markdown",
   "id": "3ee90ad2",
   "metadata": {},
   "source": [
    "#### [Part 1](https://tabular.io/blog/java-api-part-1/)"
   ]
  },
  {
   "cell_type": "code",
   "execution_count": null,
   "id": "72e68c62",
   "metadata": {},
   "outputs": [],
   "source": [
    "import org.apache.iceberg.catalog.Catalog;\n",
    "import org.apache.hadoop.conf.Configuration;\n",
    "import org.apache.iceberg.CatalogProperties;\n",
    "import org.apache.iceberg.jdbc.JdbcCatalog;\n",
    "import org.apache.iceberg.hadoop.HadoopFileIO;\n",
    "\n",
    "Map<String, String> properties = new HashMap<>();\n",
    "\n",
    "properties.put(CatalogProperties.CATALOG_IMPL, JdbcCatalog.class.getName());\n",
    "properties.put(CatalogProperties.URI, \"jdbc:postgresql://postgres:5432/demo_catalog\");\n",
    "properties.put(JdbcCatalog.PROPERTY_PREFIX + \"user\", \"admin\");\n",
    "properties.put(JdbcCatalog.PROPERTY_PREFIX + \"password\", \"password\");\n",
    "properties.put(CatalogProperties.WAREHOUSE_LOCATION, \"/home/iceberg/warehouse\");\n",
    "properties.put(CatalogProperties.FILE_IO_IMPL, HadoopFileIO.class.getName());\n",
    "\n",
    "JdbcCatalog catalog = new JdbcCatalog();\n",
    "Configuration conf = new Configuration();\n",
    "catalog.setConf(conf);\n",
    "catalog.initialize(\"demo\", properties);\n",
    "catalog.name();"
   ]
  },
  {
   "cell_type": "code",
   "execution_count": null,
   "id": "b4fd8738",
   "metadata": {},
   "outputs": [],
   "source": [
    "import org.apache.iceberg.catalog.Namespace;\n",
    "import org.apache.iceberg.catalog.TableIdentifier;\n",
    "\n",
    "Namespace nyc = Namespace.of(\"nyc\");\n",
    "catalog.listTables(nyc)"
   ]
  },
  {
   "cell_type": "code",
   "execution_count": null,
   "id": "4be615e7",
   "metadata": {},
   "outputs": [],
   "source": [
    "import org.apache.iceberg.Schema;\n",
    "import org.apache.iceberg.types.Types;\n",
    "\n",
    "Schema schema = new Schema(\n",
    "      Types.NestedField.required(1, \"level\", Types.StringType.get()),\n",
    "      Types.NestedField.required(2, \"event_time\", Types.TimestampType.withZone()),\n",
    "      Types.NestedField.required(3, \"message\", Types.StringType.get()),\n",
    "      Types.NestedField.optional(4, \"call_stack\", Types.ListType.ofRequired(5, Types.StringType.get()))\n",
    "    );\n",
    "schema"
   ]
  },
  {
   "cell_type": "code",
   "execution_count": null,
   "id": "b7299d16",
   "metadata": {},
   "outputs": [],
   "source": [
    "import org.apache.iceberg.PartitionSpec;\n",
    "\n",
    "PartitionSpec spec = PartitionSpec.builderFor(schema)\n",
    "      .hour(\"event_time\")\n",
    "      .identity(\"level\")\n",
    "      .build();\n",
    "spec"
   ]
  },
  {
   "cell_type": "code",
   "execution_count": null,
   "id": "4d900c97",
   "metadata": {},
   "outputs": [],
   "source": [
    "import org.apache.iceberg.catalog.TableIdentifier;\n",
    "\n",
    "TableIdentifier name = TableIdentifier.of(nyc, \"logs\");\n",
    "name"
   ]
  },
  {
   "cell_type": "code",
   "execution_count": null,
   "id": "8a4d8a6e",
   "metadata": {},
   "outputs": [],
   "source": [
    "catalog.createTable(name, schema, spec)"
   ]
  },
  {
   "cell_type": "code",
   "execution_count": null,
   "id": "7d8c46df",
   "metadata": {},
   "outputs": [],
   "source": [
    "catalog.dropTable(name)"
   ]
  }
 ],
 "metadata": {
  "kernelspec": {
   "display_name": "Java",
   "language": "java",
   "name": "java"
  },
  "language_info": {
   "codemirror_mode": "java",
   "file_extension": ".jshell",
   "mimetype": "text/x-java-source",
   "name": "Java",
   "pygments_lexer": "java",
   "version": "11.0.14+9-Ubuntu-0ubuntu2.20.04"
  }
 },
 "nbformat": 4,
 "nbformat_minor": 5
}
